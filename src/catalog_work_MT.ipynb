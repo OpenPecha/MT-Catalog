{
  "cells": [
    {
      "cell_type": "code",
      "execution_count": null,
      "metadata": {
        "id": "btEXTRsGBhU_"
      },
      "outputs": [],
      "source": [
        "import pandas as pd"
      ]
    },
    {
      "cell_type": "code",
      "execution_count": null,
      "metadata": {
        "id": "ZTeJPSGDChLZ"
      },
      "outputs": [],
      "source": [
        "data = pd.read_csv(\"../data/data.csv\", index_col=0)\n",
        "en_bo = pd.read_csv(\"../data/en_bo.csv\")\n",
        "bo_en = pd.read_csv(\"../data/bo_en.csv\")\n",
        "# en-bo web text pre processing\n",
        "en_bo_wt = pd.read_csv(\"../data/en_bo_web_text.csv\")\n",
        "en_bo_wt.drop(['ཨང་།'], axis=1, inplace=True)\n",
        "# bo-en web text pre processing\n",
        "bo_en_wt = pd.read_csv(\"../data/bo_en_web_text.csv\")\n",
        "bo_en_wt.drop(['ཨང་།'], axis=1, inplace=True)\n",
        "# study buddhism article csv\n",
        "study_buddhism = pd.read_csv(\"../data/study_buddhism_article.csv\")"
      ]
    },
    {
      "cell_type": "markdown",
      "metadata": {
        "id": "2z1-sFLlk8Wt"
      },
      "source": [
        "# Data"
      ]
    },
    {
      "cell_type": "code",
      "execution_count": null,
      "metadata": {},
      "outputs": [],
      "source": [
        "data.shape"
      ]
    },
    {
      "cell_type": "code",
      "execution_count": null,
      "metadata": {
        "colab": {
          "base_uri": "https://localhost:8080/",
          "height": 424
        },
        "id": "WGe5FQX0JrSM",
        "outputId": "80e68248-0be1-4e73-ebb4-1cd2d2d2a10c"
      },
      "outputs": [],
      "source": [
        "data"
      ]
    },
    {
      "cell_type": "code",
      "execution_count": null,
      "metadata": {
        "colab": {
          "base_uri": "https://localhost:8080/"
        },
        "id": "aeqmOxOjlAMQ",
        "outputId": "6020dd4d-4dbc-426a-f43d-08c3fca18af6"
      },
      "outputs": [],
      "source": [
        "data[\"File_Name\"].isnull().sum()"
      ]
    },
    {
      "cell_type": "code",
      "execution_count": null,
      "metadata": {
        "colab": {
          "base_uri": "https://localhost:8080/"
        },
        "id": "FUOjnrgaltNt",
        "outputId": "afeaaaca-067e-4179-d8d4-b4c96c0a4465"
      },
      "outputs": [],
      "source": [
        "1429192-184601"
      ]
    },
    {
      "cell_type": "code",
      "execution_count": null,
      "metadata": {
        "colab": {
          "base_uri": "https://localhost:8080/",
          "height": 424
        },
        "id": "nax9ASZ8lD0R",
        "outputId": "ebe7904b-0cb7-43b0-88de-1ed4b2e85656"
      },
      "outputs": [],
      "source": [
        "data = data.dropna().reset_index(drop=True)\n",
        "display(data)"
      ]
    },
    {
      "cell_type": "markdown",
      "metadata": {
        "id": "TIaRkAl-hz2u"
      },
      "source": [
        "# en_bo processing"
      ]
    },
    {
      "cell_type": "code",
      "execution_count": null,
      "metadata": {
        "colab": {
          "base_uri": "https://localhost:8080/"
        },
        "id": "IhFCnMQGMBnY",
        "outputId": "0449b3c2-b3b7-430f-a576-e3ba95a9dac8"
      },
      "outputs": [],
      "source": [
        "en_bo.info()"
      ]
    },
    {
      "cell_type": "code",
      "execution_count": null,
      "metadata": {
        "id": "hARRAcZ3VrF8"
      },
      "outputs": [],
      "source": [
        "en_bo.rename(columns={'BO Repo':'BO', 'EN Repo':'EN', 'བོད་མིང་། Tibetan Title': 'Tibetan Title', 'དབྱིན་མིང་། English Title': 'English Title', 'རྩོམ་པ་པོ། ': 'Author', 'སྒྱུར་བ་པོ།': 'Translator'}, inplace=True)"
      ]
    },
    {
      "cell_type": "code",
      "execution_count": null,
      "metadata": {
        "colab": {
          "base_uri": "https://localhost:8080/"
        },
        "id": "hO_3EesnWGmH",
        "outputId": "50b0ec4f-dc41-429f-d3e7-d86bc9f5ff5a"
      },
      "outputs": [],
      "source": [
        "en_bo.columns"
      ]
    },
    {
      "cell_type": "code",
      "execution_count": null,
      "metadata": {
        "colab": {
          "base_uri": "https://localhost:8080/",
          "height": 424
        },
        "id": "QOeeUOwIMIB-",
        "outputId": "37a98482-7190-4644-e93e-cb7ed7ff18a1"
      },
      "outputs": [],
      "source": [
        "new_en_bo = en_bo[['བོད་ཕྱི་ནང་།', 'Tibetan Title', 'BO', 'EN', 'English Title', 'Author', 'Translator', 'བརྗོད་བྱ།', 'བསྒྱུར་གཞི།', 'དཔེ་སྐྲུན་ཁང་།' ,'དཔར་ལོ།', 'ཤོག་གྲངས།']]\n",
        "new_en_bo"
      ]
    },
    {
      "cell_type": "code",
      "execution_count": null,
      "metadata": {
        "colab": {
          "base_uri": "https://localhost:8080/"
        },
        "id": "z2EUxgxVhtOx",
        "outputId": "bc2e2d68-0501-4e4c-bda3-53efeb64ba17"
      },
      "outputs": [],
      "source": [
        "new_en_bo['BO'].isnull().sum() , new_en_bo['EN'].isnull().sum()"
      ]
    },
    {
      "cell_type": "code",
      "execution_count": null,
      "metadata": {
        "colab": {
          "base_uri": "https://localhost:8080/",
          "height": 510
        },
        "id": "yVP8u2ZKiE_4",
        "outputId": "3b920173-e25e-412a-ed7f-9343b8b53992"
      },
      "outputs": [],
      "source": [
        "# dropping all the null rows where BO or En is not present.\n",
        "new_en_bo_cleaned = new_en_bo.dropna(subset=['BO', 'EN']).reset_index(drop=True)\n",
        "display(new_en_bo_cleaned)"
      ]
    },
    {
      "cell_type": "code",
      "execution_count": null,
      "metadata": {
        "colab": {
          "base_uri": "https://localhost:8080/"
        },
        "id": "iAiGabAFi1Gd",
        "outputId": "a5ee0ebd-e054-4f3d-9112-43fe7292edf0"
      },
      "outputs": [],
      "source": [
        "new_en_bo_cleaned['EN'].isnull().sum() , new_en_bo_cleaned['BO'].isnull().sum()"
      ]
    },
    {
      "cell_type": "code",
      "execution_count": null,
      "metadata": {
        "id": "OX4S6a-0jANR"
      },
      "outputs": [],
      "source": [
        "# no more rows with empty BO or EN"
      ]
    },
    {
      "cell_type": "markdown",
      "metadata": {
        "id": "4N8PLS9Ni9rj"
      },
      "source": [
        "# bo_en processing"
      ]
    },
    {
      "cell_type": "code",
      "execution_count": null,
      "metadata": {
        "colab": {
          "base_uri": "https://localhost:8080/"
        },
        "id": "39gyf2KnM0ul",
        "outputId": "e81c331a-cae5-4281-d7c0-ddc06d886e90"
      },
      "outputs": [],
      "source": [
        "bo_en.info()"
      ]
    },
    {
      "cell_type": "markdown",
      "metadata": {
        "id": "bmHBu0RXbuk9"
      },
      "source": [
        "renaming some essentials columns"
      ]
    },
    {
      "cell_type": "code",
      "execution_count": null,
      "metadata": {
        "colab": {
          "base_uri": "https://localhost:8080/"
        },
        "id": "ue8Ta7a4ZAwQ",
        "outputId": "e8a73d14-ad8f-4488-f76a-a8349335c5a6"
      },
      "outputs": [],
      "source": [
        "bo_en.rename(columns={'EN Repo':'EN', 'BO Repo':'BO','Title': 'English Title', 'Bo title-0': 'Tibetan Title', 'Translator/critical editor # From ISBN': 'Translator', 'Author of Original Tibetan # Add BDRC IDs': 'Author','Genre-Level 1':'བརྗོད་བྱ།'}, inplace=True)\n",
        "bo_en.columns"
      ]
    },
    {
      "cell_type": "code",
      "execution_count": null,
      "metadata": {
        "colab": {
          "base_uri": "https://localhost:8080/",
          "height": 806
        },
        "id": "An2yea5iNCIH",
        "outputId": "ba87e991-731b-4b9b-f0fc-bf76be41cbc0"
      },
      "outputs": [],
      "source": [
        "new_bo_en = bo_en[['English Title', 'EN','BO', 'Translator', 'Tibetan Title', 'BDRC བརྩམས་ཆོས།', 'བརྗོད་བྱ།', 'Author', 'Source: Oral/Transcription/Text', 'Copyright status']]\n",
        "new_bo_en"
      ]
    },
    {
      "cell_type": "code",
      "execution_count": null,
      "metadata": {
        "colab": {
          "base_uri": "https://localhost:8080/"
        },
        "id": "Cbl2BQLAj7Fz",
        "outputId": "9796414b-056f-4689-ce3d-ac7961b2a98e"
      },
      "outputs": [],
      "source": [
        "new_bo_en['EN'].isnull().sum() , new_bo_en['BO'].isnull().sum()"
      ]
    },
    {
      "cell_type": "code",
      "execution_count": null,
      "metadata": {
        "colab": {
          "base_uri": "https://localhost:8080/",
          "height": 962
        },
        "id": "oJMjRHAnkGkX",
        "outputId": "8ea32617-5843-4217-97c4-dca799ade46b"
      },
      "outputs": [],
      "source": [
        "# dropping all the null rows where BO or En is not present.\n",
        "new_bo_en_cleaned = new_bo_en.dropna(subset=['BO', 'EN']).reset_index(drop=True)\n",
        "display(new_bo_en_cleaned)"
      ]
    },
    {
      "cell_type": "code",
      "execution_count": null,
      "metadata": {
        "colab": {
          "base_uri": "https://localhost:8080/"
        },
        "id": "qF3kxL9PkTZX",
        "outputId": "fcf65fa4-7948-4034-9e3a-6f5d35d42b8b"
      },
      "outputs": [],
      "source": [
        "new_bo_en_cleaned['BO'].isnull().sum(), new_bo_en_cleaned['EN'].isnull().sum()"
      ]
    },
    {
      "cell_type": "markdown",
      "metadata": {
        "id": "Yjevr1I9k0Pv"
      },
      "source": [
        "# en_bo_wt (en-bo-web text) pre processing"
      ]
    },
    {
      "cell_type": "code",
      "execution_count": null,
      "metadata": {
        "colab": {
          "base_uri": "https://localhost:8080/"
        },
        "id": "IvJSF5hT1Tzv",
        "outputId": "ae1d8476-5b83-43e2-aef9-5d5a85f5acf1"
      },
      "outputs": [],
      "source": [
        "en_bo_wt.columns"
      ]
    },
    {
      "cell_type": "code",
      "execution_count": null,
      "metadata": {
        "colab": {
          "base_uri": "https://localhost:8080/",
          "height": 424
        },
        "id": "jyrC5LmYVG0F",
        "outputId": "8712bb5d-04a9-40f8-8f12-91e1933177a7"
      },
      "outputs": [],
      "source": [
        "en_bo_wt.rename(columns={'བོད་མིང་།': 'Tibetan Title', 'དབྱིན་མིང་།': 'English Title', 'རྩོམ་པ་བོ།': 'Author', 'སྒྱུར་བ་བོ།': 'Translator'}, inplace=True)\n",
        "en_bo_wt"
      ]
    },
    {
      "cell_type": "code",
      "execution_count": null,
      "metadata": {
        "colab": {
          "base_uri": "https://localhost:8080/"
        },
        "id": "6wWH5j4fnhyn",
        "outputId": "c95ec794-1635-4bf6-be9c-0dc770f835d7"
      },
      "outputs": [],
      "source": [
        "en_bo_wt['BO'].isnull().sum(), en_bo_wt['EN'].isnull().sum()\n"
      ]
    },
    {
      "cell_type": "code",
      "execution_count": null,
      "metadata": {
        "colab": {
          "base_uri": "https://localhost:8080/",
          "height": 424
        },
        "id": "2gqNefbEnodo",
        "outputId": "9ff04266-3e3d-4001-849e-b34c5b66aeee"
      },
      "outputs": [],
      "source": [
        "en_bo_wt = en_bo_wt.dropna(subset=['BO', 'EN']).reset_index(drop=True)\n",
        "display(en_bo_wt)"
      ]
    },
    {
      "cell_type": "code",
      "execution_count": null,
      "metadata": {
        "colab": {
          "base_uri": "https://localhost:8080/"
        },
        "id": "GkfQrc0Rn1FR",
        "outputId": "6e418c68-8617-4405-b4e3-6e2f926510e5"
      },
      "outputs": [],
      "source": [
        "en_bo_wt['BO'].isnull().sum(), en_bo_wt['EN'].isnull().sum()"
      ]
    },
    {
      "cell_type": "markdown",
      "metadata": {
        "id": "qI93goXLnRRr"
      },
      "source": [
        "# bo_en_wt (bo-en web text) pre processing\n"
      ]
    },
    {
      "cell_type": "code",
      "execution_count": null,
      "metadata": {
        "colab": {
          "base_uri": "https://localhost:8080/"
        },
        "id": "YBgSPvxJ2rX6",
        "outputId": "2482a1f7-e90a-4d39-f3b3-8e68b180601c"
      },
      "outputs": [],
      "source": [
        "bo_en_wt.columns"
      ]
    },
    {
      "cell_type": "code",
      "execution_count": null,
      "metadata": {
        "colab": {
          "base_uri": "https://localhost:8080/",
          "height": 424
        },
        "id": "3WivCpABaKbB",
        "outputId": "d47ad0e6-6ae2-4099-ba8d-e29f7e73575e"
      },
      "outputs": [],
      "source": [
        "bo_en_wt.rename(columns={'བོད་མིང་།': 'Tibetan Title', 'དབྱིན་མིང་།': 'English Title', 'རྩོམ་པ་བོ།': 'Author', 'སྒྱུར་བ་བོ།': 'Translator'}, inplace=True)\n",
        "bo_en_wt"
      ]
    },
    {
      "cell_type": "code",
      "execution_count": null,
      "metadata": {
        "colab": {
          "base_uri": "https://localhost:8080/"
        },
        "id": "PIZPOCP6q7p9",
        "outputId": "36798c46-5f68-4b9c-ac45-978eb44dd96f"
      },
      "outputs": [],
      "source": [
        "bo_en_wt['BO'].isnull().sum(), bo_en_wt['EN'].isnull().sum()"
      ]
    },
    {
      "cell_type": "code",
      "execution_count": null,
      "metadata": {
        "colab": {
          "base_uri": "https://localhost:8080/",
          "height": 424
        },
        "id": "deV2Cnj0rIFp",
        "outputId": "baa42d44-c9aa-4798-8bfd-044f5d1d81df"
      },
      "outputs": [],
      "source": [
        "bo_en_wt = bo_en_wt.dropna(subset=['BO', 'EN']).reset_index(drop=True)\n",
        "display(bo_en_wt)"
      ]
    },
    {
      "cell_type": "code",
      "execution_count": null,
      "metadata": {
        "colab": {
          "base_uri": "https://localhost:8080/"
        },
        "id": "za7Jbnh9rM_s",
        "outputId": "ea655542-0cb7-4106-90d5-40219afcc735"
      },
      "outputs": [],
      "source": [
        "bo_en_wt['BO'].isnull().sum(), bo_en_wt['EN'].isnull().sum()"
      ]
    },
    {
      "cell_type": "markdown",
      "metadata": {
        "id": "OP2EFRFonXhq"
      },
      "source": [
        "# Study buddhism pre processing"
      ]
    },
    {
      "cell_type": "code",
      "execution_count": null,
      "metadata": {
        "colab": {
          "base_uri": "https://localhost:8080/"
        },
        "id": "Pp5d-unQ3Vr0",
        "outputId": "c725f643-ab90-4304-a086-12c267f779b7"
      },
      "outputs": [],
      "source": [
        "study_buddhism.columns"
      ]
    },
    {
      "cell_type": "code",
      "execution_count": null,
      "metadata": {
        "colab": {
          "base_uri": "https://localhost:8080/",
          "height": 424
        },
        "id": "AG0F-n5UaOPO",
        "outputId": "74f0bd1c-77ea-4ee9-c1c6-8e085e0837a4"
      },
      "outputs": [],
      "source": [
        "study_buddhism.rename(columns={' English title': 'English Title', 'Bo title-0': 'Tibetan Title', 'Translator/critical editor # From ISBN': 'Translator', 'Author of Original Tibetan # Add BDRC IDs': 'Author'}, inplace=True)\n",
        "study_buddhism"
      ]
    },
    {
      "cell_type": "code",
      "execution_count": null,
      "metadata": {
        "colab": {
          "base_uri": "https://localhost:8080/"
        },
        "id": "H1Ac0sDaaQR9",
        "outputId": "e0cc0716-58d1-495b-a331-b70446d621aa"
      },
      "outputs": [],
      "source": [
        "study_buddhism['BO'].isnull().sum(), study_buddhism['EN'].isnull().sum()"
      ]
    },
    {
      "cell_type": "code",
      "execution_count": null,
      "metadata": {
        "id": "8FwlZLISrzFq"
      },
      "outputs": [],
      "source": [
        "# data\n",
        "# new_en_bo_cleaned\n",
        "# new_bo_en_cleaned\n",
        "# en_bo_wt\n",
        "# bo_en_wt\n",
        "# study_buddhism"
      ]
    },
    {
      "cell_type": "markdown",
      "metadata": {
        "id": "c9e18048"
      },
      "source": [
        "# Task\n",
        "Replace 'TM' with 'BO' in the `File_Name` column of the `data` DataFrame, then search for each transformed value in the 'BO' columns of the `cleaned_df_list` DataFrames. Collect all matching rows into a new DataFrame and display it."
      ]
    },
    {
      "cell_type": "markdown",
      "metadata": {
        "id": "35587e90"
      },
      "source": [
        "## Transform 'file name'\n",
        "\n",
        "### Subtask:\n",
        "Create a new column in the `data` DataFrame by replacing 'TM' with 'BO' in the 'File_Name' column.\n"
      ]
    },
    {
      "cell_type": "markdown",
      "metadata": {
        "id": "c8d9eb67"
      },
      "source": [
        "**Reasoning**:\n",
        "Create a new column 'BO_File_Name' in the `data` DataFrame by replacing 'TM' with 'BO' in the 'File_Name' column.\n",
        "\n"
      ]
    },
    {
      "cell_type": "code",
      "execution_count": null,
      "metadata": {
        "colab": {
          "base_uri": "https://localhost:8080/",
          "height": 424
        },
        "id": "98aa3af8",
        "outputId": "a871cac1-7412-42a2-c924-0651e83686a7"
      },
      "outputs": [],
      "source": [
        "data['BO_File_Name'] = data['File_Name'].str.replace('TM', 'BO')\n",
        "display(data)"
      ]
    },
    {
      "cell_type": "code",
      "execution_count": null,
      "metadata": {
        "id": "eb90e365"
      },
      "outputs": [],
      "source": [
        "matching_rows_df = pd.DataFrame()"
      ]
    },
    {
      "cell_type": "code",
      "execution_count": null,
      "metadata": {
        "colab": {
          "base_uri": "https://localhost:8080/",
          "height": 840
        },
        "id": "12e7ddb9",
        "outputId": "af96abe5-aae4-4b8f-c620-ee3f3ba9139d"
      },
      "outputs": [],
      "source": [
        "cleaned_df_list = [new_en_bo_cleaned, new_bo_en_cleaned, en_bo_wt, bo_en_wt, study_buddhism]\n",
        "\n",
        "all_cleaned_dfs = pd.concat(cleaned_df_list, ignore_index=True)\n",
        "\n",
        "all_cleaned_dfs"
      ]
    },
    {
      "cell_type": "code",
      "execution_count": null,
      "metadata": {
        "id": "9YU6yu9lOKab"
      },
      "outputs": [],
      "source": [
        "# none of the columns are without any value."
      ]
    },
    {
      "cell_type": "code",
      "execution_count": null,
      "metadata": {
        "colab": {
          "base_uri": "https://localhost:8080/",
          "height": 586
        },
        "id": "CPeebZsyOPiI",
        "outputId": "a5e57b69-8d10-42e8-b0a5-f072a8c9e0c6"
      },
      "outputs": [],
      "source": [
        "all_cleaned_dfs.isnull().sum()"
      ]
    },
    {
      "cell_type": "code",
      "execution_count": null,
      "metadata": {
        "colab": {
          "base_uri": "https://localhost:8080/"
        },
        "id": "WWjjTzs5T_d_",
        "outputId": "e4806440-aff5-4075-b387-5886391b4689"
      },
      "outputs": [],
      "source": [
        "all_cleaned_dfs.columns"
      ]
    },
    {
      "cell_type": "code",
      "execution_count": null,
      "metadata": {
        "colab": {
          "base_uri": "https://localhost:8080/"
        },
        "id": "OJ3W_ZQGpkYt",
        "outputId": "987bdbf4-cc8d-4ea7-a6d4-2e7d1ba9f6fd"
      },
      "outputs": [],
      "source": [
        "all_cleaned_dfs = all_cleaned_dfs.drop(['Source: Oral/Transcription/Text', 'Copyright status', 'source description'], axis=1)\n",
        "all_cleaned_dfs.columns"
      ]
    },
    {
      "cell_type": "code",
      "execution_count": null,
      "metadata": {
        "colab": {
          "base_uri": "https://localhost:8080/",
          "height": 142
        },
        "id": "itzDmMGdXQoi",
        "outputId": "2ec419f4-6bee-4471-93a4-79d82e9904c6"
      },
      "outputs": [],
      "source": [
        "all_cleaned_dfs[\"BO\"].nunique()\n",
        "\n",
        "# Find and print duplicate 'BO' values\n",
        "duplicate_bo_values = all_cleaned_dfs[all_cleaned_dfs.duplicated(subset=['BO'], keep=False)]\n",
        "if not duplicate_bo_values.empty:\n",
        "    print(\"Duplicate 'BO' values found:\")\n",
        "    display(duplicate_bo_values)\n",
        "else:\n",
        "    print(\"No duplicate 'BO' values found.\")"
      ]
    },
    {
      "cell_type": "code",
      "execution_count": null,
      "metadata": {
        "colab": {
          "base_uri": "https://localhost:8080/",
          "height": 545
        },
        "id": "eRJp9KPMK2x7",
        "outputId": "21f60485-8f88-4315-b315-b653e98396ff"
      },
      "outputs": [],
      "source": [
        "# Use isin to find matching rows\n",
        "matching_rows_df = all_cleaned_dfs[all_cleaned_dfs['BO'].isin(data['BO_File_Name'])].reset_index(drop=True)\n",
        "\n",
        "display(matching_rows_df)"
      ]
    },
    {
      "cell_type": "code",
      "execution_count": null,
      "metadata": {
        "colab": {
          "base_uri": "https://localhost:8080/",
          "height": 424
        },
        "id": "u3u_NIeejXhC",
        "outputId": "bb1957e7-635a-4261-d17f-f806310c95af"
      },
      "outputs": [],
      "source": [
        "number_of_lines = pd.read_csv(\"../data/number of lines TM.csv\")\n",
        "number_of_lines"
      ]
    },
    {
      "cell_type": "code",
      "execution_count": null,
      "metadata": {
        "colab": {
          "base_uri": "https://localhost:8080/",
          "height": 424
        },
        "id": "ZyIZ2uhNmGOA",
        "outputId": "d56a405c-ff11-44a6-dcfb-e8641ec585c8"
      },
      "outputs": [],
      "source": [
        "number_of_lines[\"BO\"] = number_of_lines[\"File_Name\"].str.replace('TM', 'BO')\n",
        "number_of_lines"
      ]
    },
    {
      "cell_type": "code",
      "execution_count": null,
      "metadata": {
        "colab": {
          "base_uri": "https://localhost:8080/",
          "height": 545
        },
        "id": "4-T1nTqJmWDI",
        "outputId": "89029bb6-f128-4c19-fde6-f74f9e1890d1"
      },
      "outputs": [],
      "source": [
        "matching_rows_df = pd.merge(matching_rows_df, number_of_lines[['BO', 'Source']], on='BO', how='left')\n",
        "display(matching_rows_df)"
      ]
    },
    {
      "cell_type": "code",
      "execution_count": null,
      "metadata": {
        "id": "Kvpo0xL6qTXt"
      },
      "outputs": [],
      "source": [
        "matching_rows_df.rename(columns={'Source':'Translation Segment pairs'}, inplace=True)"
      ]
    },
    {
      "cell_type": "code",
      "execution_count": null,
      "metadata": {},
      "outputs": [],
      "source": [
        "matching_rows_df.columns"
      ]
    },
    {
      "cell_type": "code",
      "execution_count": null,
      "metadata": {
        "id": "JAGsgJs_oH0x"
      },
      "outputs": [],
      "source": [
        "matching_rows_df.to_csv('../output_csv/Final_matching_rows.csv', index=False)"
      ]
    }
  ],
  "metadata": {
    "colab": {
      "provenance": []
    },
    "kernelspec": {
      "display_name": "venv",
      "language": "python",
      "name": "python3"
    },
    "language_info": {
      "codemirror_mode": {
        "name": "ipython",
        "version": 3
      },
      "file_extension": ".py",
      "mimetype": "text/x-python",
      "name": "python",
      "nbconvert_exporter": "python",
      "pygments_lexer": "ipython3",
      "version": "3.13.2"
    }
  },
  "nbformat": 4,
  "nbformat_minor": 0
}
